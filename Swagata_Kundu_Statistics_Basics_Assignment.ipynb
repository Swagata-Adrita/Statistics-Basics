{
 "cells": [
  {
   "cell_type": "markdown",
   "id": "9843610b",
   "metadata": {},
   "source": [
    "# Assignment of Python Basics by Swagata Kundu\n",
    "\n",
    "## Theory Questions:"
   ]
  },
  {
   "cell_type": "markdown",
   "id": "908a5bb8",
   "metadata": {},
   "source": [
    "### 1. What is statistics, and why is it important?"
   ]
  },
  {
   "cell_type": "markdown",
   "id": "f53b41f3",
   "metadata": {},
   "source": [
    "Statistics is the science of collecting, organizing, analyzing, and interpreting data. It helps us make sense of raw information and draw meaningful conclusions. Through statistics, we can identify patterns, trends, and relationships, making it an essential tool in many areas of life.\n",
    "\n",
    "Why is it important?\n",
    "\n",
    "- Better Decision-Making: Statistics provide the data-driven insights needed for informed choices in fields like business, healthcare, and government.\n",
    "\n",
    " - Understanding Trends: It helps us track and predict trends, like economic growth, weather forecasts, or consumer behavior.\n",
    "\n",
    "- Problem-Solving: Scientists and researchers use statistics to design experiments, test theories, and validate outcomes.\n",
    "\n",
    " - Personal Insights: Even in everyday life, statistics show up—like tracking fitness progress, budgeting finances, or comparing product reviews.\n",
    "\n",
    "In short, statistics is like a flashlight in the dark—it illuminates and clarifies! Would you like an example of how it works?"
   ]
  },
  {
   "cell_type": "markdown",
   "id": "bef7f16b",
   "metadata": {},
   "source": [
    "### 2. What are the two main types of statistics?"
   ]
  },
  {
   "cell_type": "markdown",
   "id": "f76d7d43",
   "metadata": {},
   "source": [
    "Statistics can be divided into two main types:\n",
    "\n",
    "- Descriptive Statistics:\n",
    "\n",
    "    Focuses on summarizing and organizing data.\n",
    "\n",
    "    Includes measures like averages (mean, median, mode), percentages, and graphical representations (charts, graphs).\n",
    "\n",
    "    Example: Calculating the average score of students in a class.\n",
    "\n",
    "\n",
    "- Inferential Statistics:\n",
    "\n",
    "    Involves making predictions or generalizations about a larger population based on a sample.\n",
    "\n",
    "    Uses techniques like hypothesis testing, confidence intervals, and regression analysis.\n",
    "\n",
    "    Example: Predicting election results by surveying a group of voters.\n",
    "\n",
    "Together, these types help us make sense of data and draw meaningful conclusions. Which one would you like to explore further?"
   ]
  },
  {
   "cell_type": "markdown",
   "id": "42d063aa",
   "metadata": {},
   "source": [
    "### 3.  What are descriptive statistics?"
   ]
  },
  {
   "cell_type": "markdown",
   "id": "9bf5e81d",
   "metadata": {},
   "source": [
    "Descriptive statistics is a branch of statistics that deals with summarizing and presenting data in a way that is easy to understand. It focuses on describing the main features of a dataset through numerical and graphical methods, without making predictions or generalizations beyond the data.\n",
    "\n",
    "Key components of descriptive statistics include:\n",
    "\n",
    "Measures of Central Tendency: These describe the \"center\" of the data.\n",
    "\n",
    "Mean (average)\n",
    "\n",
    "Median (middle value)\n",
    "\n",
    "Mode (most frequent value)\n",
    "\n",
    "Measures of Dispersion (or Spread): These show the variability in the data.\n",
    "\n",
    "Range (difference between the highest and lowest values)\n",
    "\n",
    "Variance and Standard Deviation (how data points deviate from the mean)\n",
    "\n",
    "Data Presentation: Visual tools to represent data effectively.\n",
    "\n",
    "Graphs (bar charts, histograms, pie charts)\n",
    "\n",
    "Tables and frequency distributions\n",
    "\n",
    "For example, if you have test scores for a group of students, descriptive statistics can provide you with the average score, the range of scores, and even a visual representation like a bar graph to quickly understand the data."
   ]
  },
  {
   "cell_type": "markdown",
   "id": "6e4d1376",
   "metadata": {},
   "source": [
    "### 4. What is inferential statistics?"
   ]
  },
  {
   "cell_type": "markdown",
   "id": "d1e6be26",
   "metadata": {},
   "source": [
    "Inferential statistics is a branch of statistics that allows us to draw conclusions, make predictions, or infer properties about a larger population based on data from a sample. Unlike descriptive statistics, which focuses on summarizing data, inferential statistics goes a step further to generalize findings beyond the observed data.\n",
    "\n",
    "Key concepts in inferential statistics:\n",
    "Population and Sample:\n",
    "\n",
    "Population: The entire group you're interested in studying.\n",
    "\n",
    "Sample: A smaller, representative subset of the population used for analysis.\n",
    "\n",
    "Estimation:\n",
    "\n",
    "Uses sample data to estimate population parameters (e.g., estimating the average income of a country based on survey data).\n",
    "\n",
    "Hypothesis Testing:\n",
    "\n",
    "Determines whether an assumption (hypothesis) about a population is true or false using sample data.\n",
    "\n",
    "Confidence Intervals:\n",
    "\n",
    "Provides a range of values within which the true population parameter is likely to fall, with a certain level of confidence (e.g., 95% confidence interval).\n",
    "\n",
    "Significance Testing (p-values):\n",
    "\n",
    "Evaluates whether observed results are statistically significant or occurred by chance."
   ]
  },
  {
   "cell_type": "markdown",
   "id": "5484a2f0",
   "metadata": {},
   "source": [
    "### 5. What is Sampling in Statistics\n",
    "Sampling is the process of selecting a subset of individuals from a larger population to make statistical inferences about the whole population. It is used when collecting data from an entire population is impractical."
   ]
  },
  {
   "cell_type": "markdown",
   "id": "ae83e8dc",
   "metadata": {},
   "source": [
    "### 6. What are the Different Types of Sampling Methods\n",
    "Sampling methods are generally classified into two categories:\n",
    "- **Random Sampling**: Every member of the population has an equal chance of being selected. Examples:\n",
    "  - Simple Random Sampling\n",
    "  - Stratified Sampling\n",
    "  - Cluster Sampling\n",
    "  - Systematic Sampling\n",
    "\n",
    "- **Non-Random Sampling**: Selection is based on non-probability methods. Examples:\n",
    "  - Convenience Sampling\n",
    "  - Judgmental Sampling\n",
    "  - Quota Sampling\n",
    "  - Snowball Sampling"
   ]
  },
  {
   "cell_type": "markdown",
   "id": "7a94ea38",
   "metadata": {},
   "source": [
    "### 7.  What is the Difference Between Random and Non-Random Sampling\n",
    "- **Random Sampling**: Every individual has an equal probability of selection. It reduces bias and improves generalizability.\n",
    "- **Non-Random Sampling**: Individuals are selected based on convenience or researcher judgment, which may introduce bias."
   ]
  },
  {
   "cell_type": "markdown",
   "id": "3b630bcb",
   "metadata": {},
   "source": [
    "### 8.  Define and Give Examples of Qualitative and Quantitative Data\n",
    "- **Qualitative Data**: Non-numerical data that describes characteristics or attributes.\n",
    "  - Examples: Colors of cars, types of cuisine, survey responses (e.g., 'Agree' or 'Disagree').\n",
    "- **Quantitative Data**: Numerical data that represents measurable quantities.\n",
    "  - Examples: Height, weight, temperature, number of students in a class."
   ]
  },
  {
   "cell_type": "markdown",
   "id": "943500b4",
   "metadata": {},
   "source": [
    "### 9. What are the Different Types of Data in Statistics\n",
    "- **Nominal Data**: Categories with no meaningful order (e.g., gender, blood type).\n",
    "- **Ordinal Data**: Ordered categories, but the intervals between them are not uniform (e.g., survey rankings: poor, good, excellent).\n",
    "- **Interval Data**: Numeric data with equal intervals but no true zero (e.g., temperature in Celsius or Fahrenheit).\n",
    "- **Ratio Data**: Numeric data with equal intervals and a true zero point (e.g., height, weight, income)."
   ]
  },
  {
   "cell_type": "markdown",
   "id": "f1a1198b",
   "metadata": {},
   "source": [
    "### 10. Explain Nominal, Ordinal, Interval, and Ratio Levels of Measurement\n",
    "1. **Nominal**: Labels without an inherent order (e.g., car brands, colors).\n",
    "2. **Ordinal**: Ordered categories without uniform differences (e.g., ranking in a race).\n",
    "3. **Interval**: Numeric values with equal intervals but no true zero (e.g., IQ scores).\n",
    "4. **Ratio**: Numeric values with a true zero, allowing for meaningful ratio comparisons (e.g., age, income)."
   ]
  },
  {
   "cell_type": "markdown",
   "id": "9dcf55d0",
   "metadata": {},
   "source": [
    "### 11.  What is the Measure of Central Tendency\n",
    "The measure of central tendency describes a dataset's central or typical value. The three main measures are:\n",
    "- **Mean** (average)\n",
    "- **Median** (middle value)\n",
    "- **Mode** (most frequently occurring value)"
   ]
  },
  {
   "cell_type": "markdown",
   "id": "c5397c3e",
   "metadata": {},
   "source": [
    "### 12. Define Mean, Median, and Mode\n",
    "- **Mean**: The sum of all data points divided by the total number of points.\n",
    "- **Median**: The middle value in a sorted dataset.\n",
    "- **Mode**: The most frequently occurring value in a dataset."
   ]
  },
  {
   "cell_type": "markdown",
   "id": "9c2b4f5e",
   "metadata": {},
   "source": [
    "### 13.  What is the Significance of the Measure of Central Tendency\n",
    "Central tendency measures help summarize large datasets into a single value, making it easier to analyze and compare data distributions."
   ]
  },
  {
   "cell_type": "markdown",
   "id": "b820a156",
   "metadata": {},
   "source": [
    "### 14.  What is Variance, and How is it Calculated\n",
    "Variance measures how far data points are spread out from the mean. It is calculated as:\n",
    "\\[ \\sigma^2 = \\frac{\\sum (X_i - \\bar{X})^2}{N} \\]\n",
    "where \\(X_i\\) are individual data points, \\(\\bar{X}\\) is the mean, and \\(N\\) is the total number of data points."
   ]
  },
  {
   "cell_type": "markdown",
   "id": "d98f6dcb",
   "metadata": {},
   "source": [
    "### 15. What is Standard Deviation, and Why is it Important\n",
    "Standard deviation is the square root of variance and represents data dispersion. A low standard deviation means data points are close to the mean, while a high standard deviation indicates more spread-out data."
   ]
  },
  {
   "cell_type": "markdown",
   "id": "6a13d8e3",
   "metadata": {},
   "source": [
    "### 16.  Define and Explain the Term Range in Statistics\n",
    "The range is the difference between the maximum and minimum values in a dataset:\n",
    "\\[ \\text{Range} = \\text{Max Value} - \\text{Min Value} \\]"
   ]
  },
  {
   "cell_type": "markdown",
   "id": "8ed08c8f",
   "metadata": {},
   "source": [
    "### 17.  What is the Difference Between Variance and Standard Deviation\n",
    "- **Variance**: The average squared deviation from the mean.\n",
    "- **Standard Deviation**: The square root of variance, making it more interpretable in real-world units."
   ]
  },
  {
   "cell_type": "markdown",
   "id": "c78c4e88",
   "metadata": {},
   "source": [
    "### 18.  What is Skewness in a Dataset\n",
    "Skewness measures the asymmetry of a dataset's distribution. A dataset can be:\n",
    "- **Symmetrical**: Skewness = 0\n",
    "- **Positively Skewed**: More data on the left, tail on the right\n",
    "- **Negatively Skewed**: More data on the right, tail on the left"
   ]
  },
  {
   "cell_type": "markdown",
   "id": "dec61505",
   "metadata": {},
   "source": [
    "### 19.  What Does it Mean if a Dataset is Positively or Negatively Skewed\n",
    "- **Positively Skewed**: The tail extends towards higher values, meaning a few high values increase the mean.\n",
    "- **Negatively Skewed**: The tail extends towards lower values, meaning a few low values decrease the mean."
   ]
  },
  {
   "cell_type": "markdown",
   "id": "8ed2370e",
   "metadata": {},
   "source": [
    "### 20. Define and Explain Kurtosis\n",
    "Kurtosis measures the 'tailedness' of a distribution:\n",
    "- **Mesokurtic**: Normal distribution\n",
    "- **Leptokurtic**: Higher peak and heavy tails\n",
    "- **Platykurtic**: Flatter peak and lighter tails"
   ]
  },
  {
   "cell_type": "markdown",
   "id": "c3cc83d0",
   "metadata": {},
   "source": [
    "### 21. What is the Purpose of Covariance\n",
    "Covariance measures how two variables change together. A positive covariance indicates a direct relationship, while a negative covariance suggests an inverse relationship."
   ]
  },
  {
   "cell_type": "markdown",
   "id": "5925f6b7",
   "metadata": {},
   "source": [
    "### 22 What Does Correlation Measure in Statistics\n",
    "Correlation quantifies the strength and direction of the linear relationship between two variables, ranging from -1 to +1."
   ]
  },
  {
   "cell_type": "markdown",
   "id": "e0f27bf3",
   "metadata": {},
   "source": [
    "### 23. What is the Difference Between Covariance and Correlation\n",
    "- **Covariance**: Measures joint variability but does not standardize values.\n",
    "- **Correlation**: Standardized measure of relationship strength between -1 and +1."
   ]
  },
  {
   "cell_type": "markdown",
   "id": "662b0426",
   "metadata": {},
   "source": [
    "### 24.  What are Some Real-World Applications of Statistics?\n",
    "- Medical research and drug trials\n",
    "- Financial risk analysis\n",
    "- Quality control in manufacturing\n",
    "- Sports performance analysis\n",
    "- Machine learning and data science applications"
   ]
  },
  {
   "cell_type": "markdown",
   "id": "c09944d9",
   "metadata": {},
   "source": [
    "## Practical Questions:"
   ]
  },
  {
   "cell_type": "markdown",
   "id": "a8753745",
   "metadata": {},
   "source": [
    "### 1. How to Calculate the Mean, Median, and Mode of a Dataset?\n",
    "The mean, median, and mode can be computed using Python libraries such as NumPy and SciPy."
   ]
  },
  {
   "cell_type": "code",
   "execution_count": 1,
   "id": "b7f633e0",
   "metadata": {},
   "outputs": [
    {
     "name": "stdout",
     "output_type": "stream",
     "text": [
      "Mean: 37.083333333333336\n",
      "Median: 37.5\n",
      "Mode: 50\n"
     ]
    }
   ],
   "source": [
    "\n",
    "import numpy as np\n",
    "from scipy import stats\n",
    "\n",
    "# Sample dataset\n",
    "data = [15, 20, 25, 30, 30, 35, 40, 45, 50, 50, 50, 55]\n",
    "\n",
    "# Calculate mean, median, and mode\n",
    "mean_value = np.mean(data)\n",
    "median_value = np.median(data)\n",
    "mode_value = stats.mode(data).mode[0]\n",
    "\n",
    "print(\"Mean:\", mean_value)\n",
    "print(\"Median:\", median_value)\n",
    "print(\"Mode:\", mode_value)\n"
   ]
  },
  {
   "cell_type": "markdown",
   "id": "b82462d2",
   "metadata": {},
   "source": [
    "### 2. Write a Python Program to Compute Variance and Standard Deviation of a Dataset"
   ]
  },
  {
   "cell_type": "code",
   "execution_count": null,
   "id": "7e392a57",
   "metadata": {},
   "outputs": [],
   "source": [
    "\n",
    "# Compute variance and standard deviation\n",
    "variance_value = np.var(data, ddof=1)  # Sample variance\n",
    "std_dev_value = np.std(data, ddof=1)   # Sample standard deviation\n",
    "\n",
    "print(\"Variance:\", variance_value)\n",
    "print(\"Standard Deviation:\", std_dev_value)\n"
   ]
  },
  {
   "cell_type": "markdown",
   "id": "df46cefa",
   "metadata": {},
   "source": [
    "### 3. Create a Dataset and Classify it into Nominal, Ordinal, Interval, and Ratio Types"
   ]
  },
  {
   "cell_type": "code",
   "execution_count": 2,
   "id": "7e96a6d5",
   "metadata": {},
   "outputs": [
    {
     "name": "stdout",
     "output_type": "stream",
     "text": [
      "Nominal Data: ['Red', 'Blue', 'Green', 'Yellow']\n",
      "Ordinal Data: ['Poor', 'Fair', 'Good', 'Excellent']\n",
      "Interval Data: [-10, 0, 10, 20, 30]\n",
      "Ratio Data: [5, 10, 15, 20, 25]\n"
     ]
    }
   ],
   "source": [
    "\n",
    "# Example of different data types\n",
    "nominal_data = [\"Red\", \"Blue\", \"Green\", \"Yellow\"]  # Categories without order\n",
    "ordinal_data = [\"Poor\", \"Fair\", \"Good\", \"Excellent\"]  # Ordered categories\n",
    "interval_data = [-10, 0, 10, 20, 30]  # No true zero (e.g., temperature in Celsius)\n",
    "ratio_data = [5, 10, 15, 20, 25]  # True zero exists (e.g., height in cm)\n",
    "\n",
    "print(\"Nominal Data:\", nominal_data)\n",
    "print(\"Ordinal Data:\", ordinal_data)\n",
    "print(\"Interval Data:\", interval_data)\n",
    "print(\"Ratio Data:\", ratio_data)\n"
   ]
  },
  {
   "cell_type": "markdown",
   "id": "ec369628",
   "metadata": {},
   "source": [
    "### 4. Implement Sampling Techniques like Random Sampling and Stratified Sampling"
   ]
  },
  {
   "cell_type": "code",
   "execution_count": 3,
   "id": "dffa2b1f",
   "metadata": {},
   "outputs": [
    {
     "name": "stdout",
     "output_type": "stream",
     "text": [
      "Random Sample: [33, 13, 70, 62, 73, 24, 30, 41, 67, 26]\n",
      "Stratified Sample:\n",
      "    Group  Value\n",
      "3      A      4\n",
      "40     A     41\n",
      "26     A     27\n",
      "5      A      6\n",
      "23     A     24\n",
      "75     B     76\n",
      "64     B     65\n",
      "84     B     85\n",
      "92     B     93\n",
      "61     B     62\n"
     ]
    }
   ],
   "source": [
    "\n",
    "import random\n",
    "import pandas as pd\n",
    "\n",
    "# Create a sample dataset\n",
    "population = list(range(1, 101))  # Population from 1 to 100\n",
    "\n",
    "# Simple Random Sampling\n",
    "random_sample = random.sample(population, 10)\n",
    "print(\"Random Sample:\", random_sample)\n",
    "\n",
    "# Stratified Sampling Example\n",
    "df = pd.DataFrame({'Group': ['A']*50 + ['B']*50, 'Value': range(1, 101)})\n",
    "stratified_sample = df.groupby('Group', group_keys=False).apply(lambda x: x.sample(5))\n",
    "print(\"Stratified Sample:\\n\", stratified_sample)\n"
   ]
  },
  {
   "cell_type": "markdown",
   "id": "aea091bc",
   "metadata": {},
   "source": [
    "### 5. Write a Python Function to Calculate the Range of a Dataset"
   ]
  },
  {
   "cell_type": "code",
   "execution_count": 4,
   "id": "208c9ae9",
   "metadata": {},
   "outputs": [
    {
     "name": "stdout",
     "output_type": "stream",
     "text": [
      "Range: 40\n"
     ]
    }
   ],
   "source": [
    "\n",
    "def calculate_range(data):\n",
    "    return max(data) - min(data)\n",
    "\n",
    "print(\"Range:\", calculate_range(data))\n"
   ]
  },
  {
   "cell_type": "markdown",
   "id": "21ee79c0",
   "metadata": {},
   "source": [
    "### 6.  Create a Dataset and Plot its Histogram to Visualize Skewness"
   ]
  },
  {
   "cell_type": "code",
   "execution_count": 5,
   "id": "52c8e075",
   "metadata": {},
   "outputs": [
    {
     "data": {
      "image/png": "[encoded data removed]",
      "text/plain": [
       "<Figure size 640x480 with 1 Axes>"
      ]
     },
     "metadata": {},
     "output_type": "display_data"
    }
   ],
   "source": [
    "\n",
    "import matplotlib.pyplot as plt\n",
    "\n",
    "# Create a dataset with skewness\n",
    "skewed_data = [1, 2, 2, 2, 3, 3, 4, 5, 6, 10, 20, 30]\n",
    "\n",
    "# Plot histogram\n",
    "plt.hist(skewed_data, bins=10, edgecolor='black', alpha=0.7)\n",
    "plt.title(\"Histogram to Visualize Skewness\")\n",
    "plt.xlabel(\"Value\")\n",
    "plt.ylabel(\"Frequency\")\n",
    "plt.show()\n"
   ]
  },
  {
   "cell_type": "markdown",
   "id": "8cf00327",
   "metadata": {},
   "source": [
    "### 7. Calculate Skewness and Kurtosis of a Dataset Using Python Libraries"
   ]
  },
  {
   "cell_type": "code",
   "execution_count": 6,
   "id": "b9db3f90",
   "metadata": {},
   "outputs": [
    {
     "name": "stdout",
     "output_type": "stream",
     "text": [
      "Skewness: 1.7462854334764626\n",
      "Kurtosis: 1.7513144724552019\n"
     ]
    }
   ],
   "source": [
    "\n",
    "from scipy.stats import skew, kurtosis\n",
    "\n",
    "skewness_value = skew(skewed_data)\n",
    "kurtosis_value = kurtosis(skewed_data)\n",
    "\n",
    "print(\"Skewness:\", skewness_value)\n",
    "print(\"Kurtosis:\", kurtosis_value)\n"
   ]
  },
  {
   "cell_type": "markdown",
   "id": "9ea657a4",
   "metadata": {},
   "source": [
    "### 8. Generate a Dataset and Demonstrate Positive and Negative Skewness"
   ]
  },
  {
   "cell_type": "code",
   "execution_count": 7,
   "id": "13fd5ca7",
   "metadata": {},
   "outputs": [
    {
     "data": {
      "image/png": "[encoded data removed]",
      "text/plain": [
       "<Figure size 1200x500 with 2 Axes>"
      ]
     },
     "metadata": {},
     "output_type": "display_data"
    }
   ],
   "source": [
    "\n",
    "# Positively skewed dataset\n",
    "pos_skew = [1, 2, 2, 3, 3, 4, 5, 10, 20, 30]\n",
    "# Negatively skewed dataset\n",
    "neg_skew = [1, 5, 10, 15, 15, 16, 17, 18, 19, 20]\n",
    "\n",
    "# Plot histograms\n",
    "fig, axes = plt.subplots(1, 2, figsize=(12, 5))\n",
    "axes[0].hist(pos_skew, bins=8, edgecolor='black', alpha=0.7)\n",
    "axes[0].set_title(\"Positively Skewed Data\")\n",
    "axes[1].hist(neg_skew, bins=8, edgecolor='black', alpha=0.7)\n",
    "axes[1].set_title(\"Negatively Skewed Data\")\n",
    "\n",
    "plt.show()\n"
   ]
  },
  {
   "cell_type": "markdown",
   "id": "a9309f6f",
   "metadata": {},
   "source": [
    "### 9. Write a Python Script to Calculate Covariance and Correlation Between Two Datasets"
   ]
  },
  {
   "cell_type": "code",
   "execution_count": 8,
   "id": "910e385d",
   "metadata": {},
   "outputs": [
    {
     "name": "stdout",
     "output_type": "stream",
     "text": [
      "Covariance: 250.0\n",
      "Correlation: 1.0\n"
     ]
    }
   ],
   "source": [
    "\n",
    "# Generate two datasets\n",
    "x = [10, 20, 30, 40, 50]\n",
    "y = [15, 25, 35, 45, 55]\n",
    "\n",
    "# Compute covariance and correlation\n",
    "covariance_value = np.cov(x, y)[0, 1]\n",
    "correlation_value = np.corrcoef(x, y)[0, 1]\n",
    "\n",
    "print(\"Covariance:\", covariance_value)\n",
    "print(\"Correlation:\", correlation_value)\n"
   ]
  },
  {
   "cell_type": "markdown",
   "id": "69126e7e",
   "metadata": {},
   "source": [
    "### 10. Write a Python script to calculate the correlation coefficient between two datasets"
   ]
  },
  {
   "cell_type": "code",
   "execution_count": 15,
   "id": "5af5617e",
   "metadata": {},
   "outputs": [
    {
     "name": "stdout",
     "output_type": "stream",
     "text": [
      "Correlation Coefficient: 0.9999999999999999\n"
     ]
    }
   ],
   "source": [
    "import numpy as np\n",
    "\n",
    "# Sample datasets\n",
    "dataset1 = [1, 2, 3, 4, 5]\n",
    "dataset2 = [2, 4, 6, 8, 10]\n",
    "\n",
    "# Ensure both datasets are numpy arrays\n",
    "data1 = np.array(dataset1)\n",
    "data2 = np.array(dataset2)\n",
    "\n",
    "# Calculate correlation coefficient\n",
    "correlation_coefficient = np.corrcoef(data1, data2)[0, 1]\n",
    "\n",
    "print(f\"Correlation Coefficient: {correlation_coefficient}\")\n"
   ]
  },
  {
   "cell_type": "markdown",
   "id": "c5cccf30",
   "metadata": {},
   "source": [
    "### 11. Create a Scatter Plot to Visualize the Relationship Between Two Variables"
   ]
  },
  {
   "cell_type": "code",
   "execution_count": 9,
   "id": "7f232f25",
   "metadata": {},
   "outputs": [
    {
     "data": {
      "image/png": "[encoded data removed]",
      "text/plain": [
       "<Figure size 640x480 with 1 Axes>"
      ]
     },
     "metadata": {},
     "output_type": "display_data"
    }
   ],
   "source": [
    "\n",
    "plt.scatter(x, y, color='blue', alpha=0.6)\n",
    "plt.title(\"Scatter Plot of Two Variables\")\n",
    "plt.xlabel(\"X\")\n",
    "plt.ylabel(\"Y\")\n",
    "plt.show()\n"
   ]
  },
  {
   "cell_type": "markdown",
   "id": "51f28f6f",
   "metadata": {},
   "source": [
    "### 12. Implement and compare simple random sampling and systematic sampling"
   ]
  },
  {
   "cell_type": "code",
   "execution_count": 16,
   "id": "66a351fd",
   "metadata": {},
   "outputs": [
    {
     "name": "stdout",
     "output_type": "stream",
     "text": [
      "Simple Random Sampling: [ 11  58  77  42   6  99  12 100  29   1]\n",
      "Systematic Sampling: [1, 11, 21, 31, 41, 51, 61, 71, 81, 91]\n",
      "\n",
      "Comparison:\n",
      "Simple Random Sample: [ 11  58  77  42   6  99  12 100  29   1]\n",
      "Systematic Sample: [1, 11, 21, 31, 41, 51, 61, 71, 81, 91]\n"
     ]
    }
   ],
   "source": [
    "import numpy as np\n",
    "\n",
    "# Hypothetical dataset\n",
    "dataset = list(range(1, 101))  # A dataset with 100 elements (1 to 100)\n",
    "\n",
    "# Define sample size\n",
    "sample_size = 10\n",
    "\n",
    "# Simple Random Sampling\n",
    "def simple_random_sampling(data, sample_size):\n",
    "    # Randomly select 'sample_size' elements from the dataset\n",
    "    return np.random.choice(data, size=sample_size, replace=False)\n",
    "\n",
    "simple_random_sample = simple_random_sampling(dataset, sample_size)\n",
    "print(\"Simple Random Sampling:\", simple_random_sample)\n",
    "\n",
    "# Systematic Sampling\n",
    "def systematic_sampling(data, sample_size):\n",
    "    # Calculate step size\n",
    "    step = len(data) // sample_size\n",
    "    # Select every 'step'-th element\n",
    "    return data[::step][:sample_size]\n",
    "\n",
    "systematic_sample = systematic_sampling(dataset, sample_size)\n",
    "print(\"Systematic Sampling:\", systematic_sample)\n",
    "\n",
    "# Compare the two samples\n",
    "print(\"\\nComparison:\")\n",
    "print(\"Simple Random Sample:\", simple_random_sample)\n",
    "print(\"Systematic Sample:\", systematic_sample)\n"
   ]
  },
  {
   "cell_type": "markdown",
   "id": "efb0d75b",
   "metadata": {},
   "source": [
    "### 13. Calculate the mean, median, and mode of grouped data."
   ]
  },
  {
   "cell_type": "code",
   "execution_count": 17,
   "id": "a17522fc",
   "metadata": {},
   "outputs": [
    {
     "name": "stdout",
     "output_type": "stream",
     "text": [
      "Mean: 24.714285714285715\n",
      "Median: 24.5\n",
      "Mode: 24.0\n"
     ]
    }
   ],
   "source": [
    "import numpy as np\n",
    "\n",
    "# Data: Class intervals and frequencies\n",
    "class_intervals = [(0, 10), (10, 20), (20, 30), (30, 40), (40, 50)]\n",
    "frequencies = [5, 8, 10, 7, 5]\n",
    "\n",
    "# Mean Calculation\n",
    "midpoints = [(cls[0] + cls[1]) / 2 for cls in class_intervals]\n",
    "f_times_x = [f * x for f, x in zip(frequencies, midpoints)]\n",
    "mean = sum(f_times_x) / sum(frequencies)\n",
    "print(f\"Mean: {mean}\")\n",
    "\n",
    "# Median Calculation\n",
    "cumulative_frequencies = np.cumsum(frequencies)\n",
    "N = sum(frequencies)\n",
    "median_class_index = np.where(cumulative_frequencies >= N / 2)[0][0]\n",
    "median_class = class_intervals[median_class_index]\n",
    "L = median_class[0]\n",
    "CF = cumulative_frequencies[median_class_index - 1] if median_class_index > 0 else 0\n",
    "f_median = frequencies[median_class_index]\n",
    "h = median_class[1] - median_class[0]\n",
    "median = L + ((N / 2 - CF) / f_median) * h\n",
    "print(f\"Median: {median}\")\n",
    "\n",
    "# Mode Calculation\n",
    "modal_class_index = np.argmax(frequencies)\n",
    "modal_class = class_intervals[modal_class_index]\n",
    "L = modal_class[0]\n",
    "f_m = frequencies[modal_class_index]\n",
    "f1 = frequencies[modal_class_index - 1] if modal_class_index > 0 else 0\n",
    "f2 = frequencies[modal_class_index + 1] if modal_class_index < len(frequencies) - 1 else 0\n",
    "mode = L + ((f_m - f1) / ((f_m - f1) + (f_m - f2))) * h\n",
    "print(f\"Mode: {mode}\")\n"
   ]
  },
  {
   "cell_type": "markdown",
   "id": "22617541",
   "metadata": {},
   "source": [
    "### 14. Simulate data using Python and calculate its central tendency and dispersion."
   ]
  },
  {
   "cell_type": "code",
   "execution_count": 18,
   "id": "b85673c2",
   "metadata": {},
   "outputs": [
    {
     "name": "stdout",
     "output_type": "stream",
     "text": [
      "Simulated Dataset:\n",
      "[91, 24, 13, 45, 41, 38, 27, 23, 96, 79, 21, 85, 64, 14, 13, 21, 37, 39, 74, 87, 13, 81, 35, 93, 99, 79, 63, 38, 67, 85, 45, 10, 30, 99, 64, 53, 45, 29, 37, 53, 23, 21, 58, 22, 55, 54, 87, 43, 15, 68, 78, 25, 58, 20, 80, 47, 90, 89, 56, 83, 34, 100, 18, 15, 94, 39, 47, 20, 39, 22, 58, 45, 68, 91, 56, 30, 57, 55, 36, 95, 44, 99, 97, 92, 19, 87, 91, 31, 78, 41, 30, 69, 58, 44, 91, 98, 81, 38, 97, 51]\n",
      "\n",
      "Measures of Central Tendency:\n",
      "Mean: 54.77\n",
      "Median: 53.0\n",
      "Mode: 45\n",
      "\n",
      "Measures of Dispersion:\n",
      "Range: 90\n",
      "Variance: 751.2970999999999\n",
      "Standard Deviation: 27.409799342570896\n"
     ]
    }
   ],
   "source": [
    "import numpy as np\n",
    "import random\n",
    "from scipy import stats\n",
    "\n",
    "# Step 1: Simulate a dataset\n",
    "# Simulate 100 random data points between 10 and 100\n",
    "random.seed(42)  # Set seed for reproducibility\n",
    "data = [random.randint(10, 100) for _ in range(100)]\n",
    "\n",
    "print(\"Simulated Dataset:\")\n",
    "print(data)\n",
    "\n",
    "# Step 2: Central Tendency\n",
    "mean = np.mean(data)\n",
    "median = np.median(data)\n",
    "mode = stats.mode(data).mode[0]  # Use scipy.stats to find the mode\n",
    "\n",
    "print(\"\\nMeasures of Central Tendency:\")\n",
    "print(f\"Mean: {mean}\")\n",
    "print(f\"Median: {median}\")\n",
    "print(f\"Mode: {mode}\")\n",
    "\n",
    "# Step 3: Dispersion\n",
    "range_ = max(data) - min(data)  # Range calculation\n",
    "variance = np.var(data)  # Variance\n",
    "std_deviation = np.std(data)  # Standard deviation\n",
    "\n",
    "print(\"\\nMeasures of Dispersion:\")\n",
    "print(f\"Range: {range_}\")\n",
    "print(f\"Variance: {variance}\")\n",
    "print(f\"Standard Deviation: {std_deviation}\")\n"
   ]
  },
  {
   "cell_type": "markdown",
   "id": "a3a912d4",
   "metadata": {},
   "source": [
    "### 15. Use NumPy or pandas to summarize a dataset’s descriptive statistics"
   ]
  },
  {
   "cell_type": "code",
   "execution_count": 19,
   "id": "91f4cf62",
   "metadata": {},
   "outputs": [
    {
     "name": "stdout",
     "output_type": "stream",
     "text": [
      "Descriptive Statistics Summary:\n",
      "            Age        Salary\n",
      "count  10.00000     10.000000\n",
      "mean   32.30000  55600.000000\n",
      "std     8.01457   4599.516883\n",
      "min    22.00000  49000.000000\n",
      "25%    26.00000  52250.000000\n",
      "50%    32.00000  55500.000000\n",
      "75%    35.75000  59500.000000\n",
      "max    45.00000  62000.000000\n"
     ]
    }
   ],
   "source": [
    "import pandas as pd\n",
    "\n",
    "# Step 1: Create or load a dataset\n",
    "# Example: Creating a sample dataset with random values\n",
    "data = {\n",
    "    \"Age\": [23, 45, 31, 35, 22, 36, 44, 33, 25, 29],\n",
    "    \"Salary\": [50000, 60000, 55000, 58000, 52000, 62000, 61000, 49000, 53000, 56000]\n",
    "}\n",
    "df = pd.DataFrame(data)\n",
    "\n",
    "# Step 2: Summarize descriptive statistics\n",
    "summary = df.describe()\n",
    "\n",
    "print(\"Descriptive Statistics Summary:\")\n",
    "print(summary)\n"
   ]
  },
  {
   "cell_type": "markdown",
   "id": "4a4395b4",
   "metadata": {},
   "source": [
    "### 16.  Plot a Boxplot to Understand the Spread and Identify Outliers"
   ]
  },
  {
   "cell_type": "code",
   "execution_count": 10,
   "id": "59634a0c",
   "metadata": {},
   "outputs": [
    {
     "data": {
      "image/png": "[encoded data removed]",
      "text/plain": [
       "<Figure size 640x480 with 1 Axes>"
      ]
     },
     "metadata": {},
     "output_type": "display_data"
    }
   ],
   "source": [
    "\n",
    "plt.boxplot(data, vert=False)\n",
    "plt.title(\"Boxplot of Dataset\")\n",
    "plt.show()\n"
   ]
  },
  {
   "cell_type": "markdown",
   "id": "065c5f76",
   "metadata": {},
   "source": [
    "### 17. Calculate the Interquartile Range (IQR) of a Dataset"
   ]
  },
  {
   "cell_type": "code",
   "execution_count": 22,
   "id": "6599f417",
   "metadata": {},
   "outputs": [
    {
     "name": "stdout",
     "output_type": "stream",
     "text": [
      "Dataset: [5, 7, 8, 12, 15, 18, 22, 24, 27, 30]\n",
      "Q1 (25th Percentile): 9.0\n",
      "Q3 (75th Percentile): 23.5\n",
      "Interquartile Range (IQR): 14.5\n"
     ]
    }
   ],
   "source": [
    "\n",
    "import numpy as np\n",
    "\n",
    "# Example dataset\n",
    "data = [5, 7, 8, 12, 15, 18, 22, 24, 27, 30]\n",
    "\n",
    "# Step 1: Sort the data\n",
    "data = sorted(data)\n",
    "\n",
    "# Step 2: Calculate Q1 and Q3\n",
    "Q1 = np.percentile(data, 25)  # 25th percentile\n",
    "Q3 = np.percentile(data, 75)  # 75th percentile\n",
    "\n",
    "# Step 3: Calculate IQR\n",
    "IQR = Q3 - Q1\n",
    "\n",
    "print(f\"Dataset: {data}\")\n",
    "print(f\"Q1 (25th Percentile): {Q1}\")\n",
    "print(f\"Q3 (75th Percentile): {Q3}\")\n",
    "print(f\"Interquartile Range (IQR): {IQR}\")\n",
    "\n"
   ]
  },
  {
   "cell_type": "markdown",
   "id": "ea7b90ec",
   "metadata": {},
   "source": [
    "### 18. Implement Z-Score Normalization and Explain Its Significance"
   ]
  },
  {
   "cell_type": "code",
   "execution_count": 23,
   "id": "a1441458",
   "metadata": {},
   "outputs": [
    {
     "name": "stdout",
     "output_type": "stream",
     "text": [
      "Z-Scores: [-1.41279377 -1.1733372  -1.05360891 -0.57469577 -0.21551091  0.14367394\n",
      "  0.62258709  0.86204366  1.22122851  1.58041337]\n"
     ]
    }
   ],
   "source": [
    "\n",
    "z_scores = (data - np.mean(data)) / np.std(data)\n",
    "print(\"Z-Scores:\", z_scores)\n"
   ]
  },
  {
   "cell_type": "markdown",
   "id": "5663a785",
   "metadata": {},
   "source": [
    "### 19. Compare two datasets using their standard deviations"
   ]
  },
  {
   "cell_type": "code",
   "execution_count": 24,
   "id": "d578cbf8",
   "metadata": {},
   "outputs": [
    {
     "name": "stdout",
     "output_type": "stream",
     "text": [
      "Dataset 1:\n",
      "Data: [10, 15, 20, 25, 30]\n",
      "Mean: 20.0\n",
      "Standard Deviation: 7.0710678118654755\n",
      "\n",
      "Dataset 2:\n",
      "Data: [5, 10, 15, 35, 50]\n",
      "Mean: 23.0\n",
      "Standard Deviation: 16.911534525287763\n",
      "\n",
      "Dataset 2 has higher variability (larger standard deviation).\n"
     ]
    }
   ],
   "source": [
    "import numpy as np\n",
    "\n",
    "# Example datasets\n",
    "dataset1 = [10, 15, 20, 25, 30]\n",
    "dataset2 = [5, 10, 15, 35, 50]\n",
    "\n",
    "# Calculate mean and standard deviation for both datasets\n",
    "mean1 = np.mean(dataset1)\n",
    "std_dev1 = np.std(dataset1)\n",
    "\n",
    "mean2 = np.mean(dataset2)\n",
    "std_dev2 = np.std(dataset2)\n",
    "\n",
    "# Display results\n",
    "print(\"Dataset 1:\")\n",
    "print(f\"Data: {dataset1}\")\n",
    "print(f\"Mean: {mean1}\")\n",
    "print(f\"Standard Deviation: {std_dev1}\\n\")\n",
    "\n",
    "print(\"Dataset 2:\")\n",
    "print(f\"Data: {dataset2}\")\n",
    "print(f\"Mean: {mean2}\")\n",
    "print(f\"Standard Deviation: {std_dev2}\\n\")\n",
    "\n",
    "# Compare variability\n",
    "if std_dev1 > std_dev2:\n",
    "    print(\"Dataset 1 has higher variability (larger standard deviation).\")\n",
    "elif std_dev1 < std_dev2:\n",
    "    print(\"Dataset 2 has higher variability (larger standard deviation).\")\n",
    "else:\n",
    "    print(\"Both datasets have the same variability (equal standard deviation).\")\n"
   ]
  },
  {
   "cell_type": "markdown",
   "id": "43e42473",
   "metadata": {},
   "source": [
    "### 20.  Write a Python Program to Visualize Covariance Using a Heatmap"
   ]
  },
  {
   "cell_type": "code",
   "execution_count": 25,
   "id": "9d363dec",
   "metadata": {},
   "outputs": [
    {
     "data": {
      "image/png": "[encoded data removed]",
      "text/plain": [
       "<Figure size 640x480 with 2 Axes>"
      ]
     },
     "metadata": {},
     "output_type": "display_data"
    }
   ],
   "source": [
    "\n",
    "import seaborn as sns\n",
    "\n",
    "data_matrix = np.array([x, y])\n",
    "sns.heatmap(np.cov(data_matrix), annot=True, cmap=\"coolwarm\")\n",
    "plt.title(\"Covariance Heatmap\")\n",
    "plt.show()\n"
   ]
  },
  {
   "cell_type": "markdown",
   "id": "2c1fbacc",
   "metadata": {},
   "source": [
    "### 21. Use Seaborn to Create a Correlation Matrix for a Dataset"
   ]
  },
  {
   "cell_type": "code",
   "execution_count": 26,
   "id": "640bef82",
   "metadata": {},
   "outputs": [
    {
     "data": {
      "image/png": "[encoded data removed]",
      "text/plain": [
       "<Figure size 640x480 with 2 Axes>"
      ]
     },
     "metadata": {},
     "output_type": "display_data"
    }
   ],
   "source": [
    "\n",
    "df = pd.DataFrame({'X': x, 'Y': y})\n",
    "sns.heatmap(df.corr(), annot=True, cmap=\"coolwarm\")\n",
    "plt.title(\"Correlation Matrix\")\n",
    "plt.show()\n"
   ]
  },
  {
   "cell_type": "markdown",
   "id": "55afb04c",
   "metadata": {},
   "source": [
    "### 22.Generate a dataset and implement both variance and standard deviation computations."
   ]
  },
  {
   "cell_type": "code",
   "execution_count": 27,
   "id": "df0c6fc8",
   "metadata": {},
   "outputs": [
    {
     "name": "stdout",
     "output_type": "stream",
     "text": [
      "Generated Dataset:\n",
      "[ 52  93  15  72  61  21  83  87  75  75  88 100  24   3  22  53   2  88\n",
      "  30  38]\n",
      "\n",
      "Variance (Population): 990.49\n",
      "Standard Deviation (Population): 31.472051092993606\n",
      "\n",
      "Variance (Sample): 1042.621052631579\n",
      "Standard Deviation (Sample): 32.28964311712935\n"
     ]
    }
   ],
   "source": [
    "import numpy as np\n",
    "\n",
    "# Step 1: Generate a random dataset\n",
    "# Generating 20 random integers between 1 and 100\n",
    "np.random.seed(42)  # Set seed for reproducibility\n",
    "data = np.random.randint(1, 101, size=20)\n",
    "\n",
    "print(\"Generated Dataset:\")\n",
    "print(data)\n",
    "\n",
    "# Step 2: Calculate the variance\n",
    "variance = np.var(data)  # Population variance\n",
    "print(f\"\\nVariance (Population): {variance}\")\n",
    "\n",
    "# Step 3: Calculate the standard deviation\n",
    "std_deviation = np.std(data)  # Population standard deviation\n",
    "print(f\"Standard Deviation (Population): {std_deviation}\")\n",
    "\n",
    "# If you need sample variance and standard deviation:\n",
    "sample_variance = np.var(data, ddof=1)  # Sample variance\n",
    "sample_std_deviation = np.std(data, ddof=1)  # Sample standard deviation\n",
    "\n",
    "print(f\"\\nVariance (Sample): {sample_variance}\")\n",
    "print(f\"Standard Deviation (Sample): {sample_std_deviation}\")\n"
   ]
  },
  {
   "cell_type": "markdown",
   "id": "0025ce05",
   "metadata": {},
   "source": [
    "### 23. Visualize skewness and kurtosis using Python libraries like matplotlib or seaborn."
   ]
  },
  {
   "cell_type": "code",
   "execution_count": 28,
   "id": "86bb4716",
   "metadata": {},
   "outputs": [
    {
     "name": "stdout",
     "output_type": "stream",
     "text": [
      "Skewness: 0.11680083110533511\n",
      "Kurtosis: 0.06620589292148393\n"
     ]
    },
    {
     "data": {
      "image/png": "[encoded data removed]",
      "text/plain": [
       "<Figure size 1200x600 with 2 Axes>"
      ]
     },
     "metadata": {},
     "output_type": "display_data"
    }
   ],
   "source": [
    "import numpy as np\n",
    "import seaborn as sns\n",
    "import matplotlib.pyplot as plt\n",
    "from scipy.stats import skew, kurtosis\n",
    "\n",
    "# Step 1: Generate a dataset\n",
    "np.random.seed(42)  # Ensure reproducibility\n",
    "data = np.random.normal(loc=0, scale=1, size=1000)  # Normally distributed data\n",
    "\n",
    "# Step 2: Calculate skewness and kurtosis\n",
    "data_skewness = skew(data)\n",
    "data_kurtosis = kurtosis(data, fisher=True)  # Fisher=True gives excess kurtosis (normal = 0)\n",
    "\n",
    "print(f\"Skewness: {data_skewness}\")\n",
    "print(f\"Kurtosis: {data_kurtosis}\")\n",
    "\n",
    "# Step 3: Visualize the data\n",
    "plt.figure(figsize=(12, 6))\n",
    "\n",
    "# Histogram\n",
    "plt.subplot(1, 2, 1)\n",
    "sns.histplot(data, kde=True, bins=30, color='blue', alpha=0.7)\n",
    "plt.title(\"Histogram with Skewness\")\n",
    "plt.xlabel(\"Values\")\n",
    "plt.ylabel(\"Frequency\")\n",
    "plt.axvline(np.mean(data), color='red', linestyle='--', label='Mean')\n",
    "plt.legend()\n",
    "\n",
    "# Boxplot\n",
    "plt.subplot(1, 2, 2)\n",
    "sns.boxplot(data, orient='h', color='green')\n",
    "plt.title(\"Boxplot\")\n",
    "\n",
    "plt.tight_layout()\n",
    "plt.show()\n"
   ]
  },
  {
   "cell_type": "markdown",
   "id": "38d7ed3a",
   "metadata": {},
   "source": [
    "### 24. Implement the Pearson and Spearman correlation coefficients for a dataset.### 24. "
   ]
  },
  {
   "cell_type": "code",
   "execution_count": 29,
   "id": "e53da5b5",
   "metadata": {},
   "outputs": [
    {
     "name": "stdout",
     "output_type": "stream",
     "text": [
      "Pearson Correlation Coefficient:\n",
      "Correlation: 1.0\n",
      "P-value: 0.0\n",
      "\n",
      "Spearman Correlation Coefficient:\n",
      "Correlation: 0.9999999999999999\n",
      "P-value: 1.4042654220543672e-24\n"
     ]
    }
   ],
   "source": [
    "import numpy as np\n",
    "from scipy.stats import pearsonr, spearmanr\n",
    "\n",
    "# Example Dataset\n",
    "x = [10, 20, 30, 40, 50]\n",
    "y = [15, 25, 35, 45, 55]  # Positive linear relationship\n",
    "\n",
    "# Calculate Pearson Correlation Coefficient\n",
    "pearson_corr, pearson_p_value = pearsonr(x, y)\n",
    "\n",
    "# Calculate Spearman Correlation Coefficient\n",
    "spearman_corr, spearman_p_value = spearmanr(x, y)\n",
    "\n",
    "# Print Results\n",
    "print(\"Pearson Correlation Coefficient:\")\n",
    "print(f\"Correlation: {pearson_corr}\")\n",
    "print(f\"P-value: {pearson_p_value}\")\n",
    "\n",
    "print(\"\\nSpearman Correlation Coefficient:\")\n",
    "print(f\"Correlation: {spearman_corr}\")\n",
    "print(f\"P-value: {spearman_p_value}\")\n"
   ]
  },
  {
   "cell_type": "code",
   "execution_count": null,
   "id": "f8fd45e6",
   "metadata": {},
   "outputs": [],
   "source": []
  }
 ],
 "metadata": {
  "kernelspec": {
   "display_name": "Python 3 (ipykernel)",
   "language": "python",
   "name": "python3"
  },
  "language_info": {
   "codemirror_mode": {
    "name": "ipython",
    "version": 3
   },
   "file_extension": ".py",
   "mimetype": "text/x-python",
   "name": "python",
   "nbconvert_exporter": "python",
   "pygments_lexer": "ipython3",
   "version": "3.7.16"
  }
 },
 "nbformat": 4,
 "nbformat_minor": 5
}
